{
  "nbformat": 4,
  "nbformat_minor": 0,
  "metadata": {
    "colab": {
      "provenance": [],
      "gpuType": "T4",
      "toc_visible": true
    },
    "kernelspec": {
      "name": "python3",
      "display_name": "Python 3"
    },
    "language_info": {
      "name": "python"
    },
    "accelerator": "GPU"
  },
  "cells": [
    {
      "cell_type": "markdown",
      "source": [
        "#**Fine-Tune Llama 2 in Google Colab**\n"
      ],
      "metadata": {
        "id": "OSHlAbqzDFDq"
      }
    },
    {
      "cell_type": "markdown",
      "source": [
        "# Setup"
      ],
      "metadata": {
        "id": "BAAwHs8AOj2d"
      }
    },
    {
      "cell_type": "code",
      "source": [
        "HUGGING_FACE_HUB_TOKEN = '...'\n",
        "HUGGING_FACE_HUB_TOKEN_WRITE = '...'"
      ],
      "metadata": {
        "id": "rDP0_GJ_8ee0"
      },
      "execution_count": 1,
      "outputs": []
    },
    {
      "cell_type": "code",
      "source": [
        "import os\n",
        "os.environ[\"HUGGING_FACE_HUB_TOKEN\"] = HUGGING_FACE_HUB_TOKEN"
      ],
      "metadata": {
        "id": "XWbyP85BJEyn"
      },
      "execution_count": 2,
      "outputs": []
    },
    {
      "cell_type": "code",
      "execution_count": 3,
      "metadata": {
        "id": "GLXwJqbjtPho"
      },
      "outputs": [],
      "source": [
        "%%capture\n",
        "!pip install -q accelerate==0.21.0 peft==0.4.0 bitsandbytes==0.40.2 transformers==4.31.0 trl==0.4.7"
      ]
    },
    {
      "cell_type": "code",
      "source": [
        "import os\n",
        "import torch\n",
        "from datasets import load_dataset\n",
        "from transformers import (\n",
        "    AutoModelForCausalLM,\n",
        "    AutoTokenizer,\n",
        "    BitsAndBytesConfig,\n",
        "    HfArgumentParser,\n",
        "    TrainingArguments,\n",
        "    pipeline,\n",
        "    logging,\n",
        ")\n",
        "from peft import LoraConfig, PeftModel\n",
        "from trl import SFTTrainer"
      ],
      "metadata": {
        "id": "nAMzy_0FtaUZ"
      },
      "execution_count": 4,
      "outputs": []
    },
    {
      "cell_type": "code",
      "source": [
        "# constants\n",
        "GPT2 = 'gpt2'\n",
        "BERT = 'bert-base-cased'\n",
        "LLAMA = 'meta-llama/Llama-2-7b-chat-hf'\n",
        "\n",
        "# basic parameters\n",
        "model_name = LLAMA\n",
        "dataset_name = 'yelp_review_full'\n",
        "device_name = 'cuda'\n",
        "new_model = f'{model_name}-finetune'\n",
        "num_epochs = 3\n",
        "samples = 5000 # number of samples from the dataset\n",
        "\n",
        "# qlora\n",
        "lora_r = 64 # LoRA attention dimension\n",
        "lora_alpha = 16 # Alpha parameter for LoRA scaling\n",
        "lora_dropout = 0.1 # Dropout probability for LoRA layers\n",
        "\n",
        "# bitsandbytes\n",
        "use_4bit = True # Activate 4-bit precision base model loading\n",
        "bnb_4bit_compute_dtype = \"float16\" # Compute dtype for 4-bit base models\n",
        "bnb_4bit_quant_type = \"nf4\" # Quantization type (fp4 or nf4)\n",
        "use_nested_quant = False # Activate nested quantization for 4-bit base models (double quantization)\n",
        "\n",
        "# training\n",
        "output_dir = \"./results\" # Output directory where the model predictions and checkpoints will be stored\n",
        "num_train_epochs = 1 # Number of training epochs\n",
        "fp16 = False # Enable fp16 training\n",
        "bf16 = False # Enable bf16 training / set to True with an A100\n",
        "per_device_train_batch_size = 4 # Batch size per GPU for training\n",
        "per_device_eval_batch_size = 4 # Batch size per GPU for evaluation\n",
        "gradient_accumulation_steps = 1 # Number of update steps to accumulate the gradients for\n",
        "gradient_checkpointing = True # Enable gradient checkpointing\n",
        "max_grad_norm = 0.3 # Maximum gradient normal (gradient clipping)\n",
        "learning_rate = 2e-4 # Initial learning rate (AdamW optimizer)\n",
        "weight_decay = 0.001 # Weight decay to apply to all layers except bias/LayerNorm weights\n",
        "optim = \"paged_adamw_32bit\" # Optimizer to use\n",
        "lr_scheduler_type = \"cosine\" # Learning rate schedule\n",
        "max_steps = -1 # Number of training steps (overrides num_train_epochs)\n",
        "warmup_ratio = 0.03 # Ratio of steps for a linear warmup (from 0 to learning rate)\n",
        "group_by_length = True # Group sequences into batches with same length (saves memory)\n",
        "save_steps = 0 # Save checkpoint every X updates steps\n",
        "logging_steps = 25 # Log every X updates steps\n",
        "max_seq_length = None # Maximum sequence length to use\n",
        "packing = False # Pack multiple short examples in the same input sequence to increase efficiency\n",
        "device_map = {\"\": 0} # Load the entire model on the GPU 0"
      ],
      "metadata": {
        "id": "163zX92bMCiI"
      },
      "execution_count": 5,
      "outputs": []
    },
    {
      "cell_type": "code",
      "source": [
        "# quantization\n",
        "compute_dtype = getattr(torch, bnb_4bit_compute_dtype)\n",
        "\n",
        "bnb_config = BitsAndBytesConfig(\n",
        "    load_in_4bit=use_4bit,\n",
        "    bnb_4bit_quant_type=bnb_4bit_quant_type,\n",
        "    bnb_4bit_compute_dtype=compute_dtype,\n",
        "    bnb_4bit_use_double_quant=use_nested_quant,\n",
        ")\n",
        "\n",
        "# Check GPU compatibility with bfloat16\n",
        "if compute_dtype == torch.float16 and use_4bit:\n",
        "    major, _ = torch.cuda.get_device_capability()\n",
        "    if major >= 8:\n",
        "        print(\"=\" * 80)\n",
        "        print(\"set bf16=True\")\n",
        "        print(\"=\" * 80)"
      ],
      "metadata": {
        "id": "gW8ydCXtLfEM"
      },
      "execution_count": 6,
      "outputs": []
    },
    {
      "cell_type": "code",
      "source": [
        "# load the model\n",
        "model = AutoModelForCausalLM.from_pretrained(\n",
        "    model_name,\n",
        "    quantization_config=bnb_config,\n",
        "    device_map=device_map\n",
        ")\n",
        "model.config.use_cache = False\n",
        "model.config.pretraining_tp = 1"
      ],
      "metadata": {
        "id": "OJXpOgBFuSrc"
      },
      "execution_count": null,
      "outputs": []
    },
    {
      "cell_type": "code",
      "source": [
        "# load the tokenizer\n",
        "tokenizer = AutoTokenizer.from_pretrained(model_name, trust_remote_code=True)\n",
        "tokenizer.pad_token = tokenizer.eos_token\n",
        "tokenizer.padding_side = \"right\""
      ],
      "metadata": {
        "id": "Gmf7KaSIMvxb"
      },
      "execution_count": null,
      "outputs": []
    },
    {
      "cell_type": "code",
      "source": [
        "# Load LoRA configuration\n",
        "peft_config = LoraConfig(\n",
        "    lora_alpha=lora_alpha,\n",
        "    lora_dropout=lora_dropout,\n",
        "    r=lora_r,\n",
        "    bias=\"none\",\n",
        "    task_type=\"CAUSAL_LM\",\n",
        ")\n",
        "\n",
        "# Set training parameters\n",
        "training_arguments = TrainingArguments(\n",
        "    output_dir=output_dir,\n",
        "    num_train_epochs=num_train_epochs,\n",
        "    per_device_train_batch_size=per_device_train_batch_size,\n",
        "    gradient_accumulation_steps=gradient_accumulation_steps,\n",
        "    optim=optim,\n",
        "    save_steps=save_steps,\n",
        "    logging_steps=logging_steps,\n",
        "    learning_rate=learning_rate,\n",
        "    weight_decay=weight_decay,\n",
        "    fp16=fp16,\n",
        "    bf16=bf16,\n",
        "    max_grad_norm=max_grad_norm,\n",
        "    max_steps=max_steps,\n",
        "    warmup_ratio=warmup_ratio,\n",
        "    group_by_length=group_by_length,\n",
        "    lr_scheduler_type=lr_scheduler_type,\n",
        "    report_to=\"tensorboard\"\n",
        ")"
      ],
      "metadata": {
        "id": "gVbyGnXlMzQf"
      },
      "execution_count": 9,
      "outputs": []
    },
    {
      "cell_type": "markdown",
      "source": [
        "# Training\n",
        "\n",
        "These blocks load the dataset and perform the training"
      ],
      "metadata": {
        "id": "s1V-h1whOo_f"
      }
    },
    {
      "cell_type": "code",
      "source": [
        "dataset = load_dataset(dataset_name, split=f'train[:{samples}]')\n",
        "\n",
        "test_dataset = load_dataset(dataset_name, split=f'test[{samples}:{samples*2}]')"
      ],
      "metadata": {
        "id": "q6bWkrxZLZl1"
      },
      "execution_count": null,
      "outputs": []
    },
    {
      "cell_type": "code",
      "source": [
        "# configure the trainer\n",
        "trainer = SFTTrainer(\n",
        "    model=model,\n",
        "    train_dataset=dataset,\n",
        "    eval_dataset=test_dataset,\n",
        "    peft_config=peft_config,\n",
        "    dataset_text_field=\"text\",\n",
        "    max_seq_length=max_seq_length,\n",
        "    tokenizer=tokenizer,\n",
        "    args=training_arguments,\n",
        "    packing=packing,\n",
        ")"
      ],
      "metadata": {
        "id": "VGAE4KymwY70"
      },
      "execution_count": null,
      "outputs": []
    },
    {
      "cell_type": "markdown",
      "source": [
        "The following step may take 1 hours with 5.000 samples and 2 hours with 10.000"
      ],
      "metadata": {
        "id": "8JLdm2joDMXL"
      }
    },
    {
      "cell_type": "code",
      "source": [
        "# Train model\n",
        "trainer.train()\n",
        "\n",
        "# Save trained model\n",
        "trainer.model.save_pretrained(new_model)"
      ],
      "metadata": {
        "id": "kjdNnTl9Lj3w"
      },
      "execution_count": null,
      "outputs": []
    },
    {
      "cell_type": "markdown",
      "source": [
        "# Evaluation\n",
        "\n",
        "Evaluate the effectiveness of the process\n",
        "\n",
        "This step may take more that 1 hour with 10.000 samples"
      ],
      "metadata": {
        "id": "zxoehKagOe3Y"
      }
    },
    {
      "cell_type": "code",
      "source": [
        "import math\n",
        "\n",
        "eval_results = trainer.evaluate()\n",
        "\n",
        "print(f\"Perplexity: {math.exp(eval_results['eval_loss']):.2f}\")"
      ],
      "metadata": {
        "id": "m7MrxD4nNg8j"
      },
      "execution_count": null,
      "outputs": []
    },
    {
      "cell_type": "markdown",
      "source": [
        "with gpt2\n",
        "- 500 - Perplexity: 37.41\n",
        "- 1000 - Perplexity: 36.00\n",
        "- 2000 - Perplexity: 34.37\n",
        "\n",
        "with llama\n",
        "- 1000 - Perplexity: 11.22\n",
        "- 10.000 - Perplexity: ???\n"
      ],
      "metadata": {
        "id": "IC9BIgOdiint"
      }
    },
    {
      "cell_type": "code",
      "source": [
        "# Empty VRAM\n",
        "del model\n",
        "del trainer\n",
        "import gc\n",
        "gc.collect()\n",
        "gc.collect()"
      ],
      "metadata": {
        "id": "M6ZYP-h37gxG"
      },
      "execution_count": null,
      "outputs": []
    },
    {
      "cell_type": "code",
      "source": [
        "# Reload model in FP16 and merge it with LoRA weights\n",
        "base_model = AutoModelForCausalLM.from_pretrained(\n",
        "    model_name,\n",
        "    low_cpu_mem_usage=True,\n",
        "    return_dict=True,\n",
        "    torch_dtype=torch.float16,\n",
        "    device_map=device_map,\n",
        ")\n",
        "model = PeftModel.from_pretrained(base_model, new_model)\n",
        "model = model.merge_and_unload()\n",
        "\n",
        "# Reload tokenizer to save it\n",
        "tokenizer = AutoTokenizer.from_pretrained(model_name, trust_remote_code=True)\n",
        "tokenizer.pad_token = tokenizer.eos_token\n",
        "tokenizer.padding_side = \"right\""
      ],
      "metadata": {
        "id": "QQn30cRtAZ-P"
      },
      "execution_count": null,
      "outputs": []
    },
    {
      "cell_type": "code",
      "source": [
        "!huggingface-cli login\n",
        "\n",
        "model.push_to_hub('alros/llama-test-1000', check_pr=True)"
      ],
      "metadata": {
        "id": "7B7M5qyF68ND"
      },
      "execution_count": null,
      "outputs": []
    }
  ]
}